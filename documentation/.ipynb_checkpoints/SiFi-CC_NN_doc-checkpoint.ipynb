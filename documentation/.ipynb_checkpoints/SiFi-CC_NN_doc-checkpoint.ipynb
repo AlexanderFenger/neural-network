{
 "cells": [
  {
   "cell_type": "markdown",
   "id": "b2973ae9",
   "metadata": {},
   "source": [
    "# SiDi-CC Neural Network Event identification\n",
    "\n",
    "## Introduction\n",
    "\n",
    "The objective of this study is to improve the event classification and the prediction on the position and energy of the Compton event inside the Compton Camera with the use of a neural network.\n",
    "\n",
    "The goal is to improve the currently used cut-based reconstruction of the compton event by the predictions of the neural network. The ultimate target of the neural network is to correctly identify compton events, predict the energy and position of the compton event and most importantly, reproduce a range shift in the input data.\n",
    "\n",
    "## Current Solutions\n",
    "\n",
    "The current solution is a supervised hybrid Neural Network developed during the Master-thesis of Awal Awal. The network consists of two layer Convolutional-Neural-Network (CNN) followd up by a multi-component Deep-Neural-Network. The NN showcased a higher purity and position resolution than the cut-based reconstruction, but ultimately failed to reproduce a simulated Bragg peak shift.\n",
    "\n",
    "## Neural Network Performance\n",
    "\n",
    "The performance of the NN is measured in:\n",
    "\n",
    "1. $ \\text{Purity} = \\frac{\\text{No. correctly reconstructed Compton events}}{\\text{No. identified Compton events}} $\n",
    "\n",
    "\n",
    "2. $ \\text{Efficiency} = \\frac{\\text{No. correctly reconstructed Compton events}}{\\text{No. Compton events in data}} $\n",
    "\n",
    "\n",
    "3. **Mean Euclidean Distance:** Mean euclidean distance between the true electron and proton position and the model predicted positions\n",
    "\n",
    "## Documentation\n",
    "\n",
    "Full documentation of this problem will be available in this markdown documentation. The code will be available on Github.\n",
    "\n",
    "# Dataset (Root files)\n",
    "\n",
    "## Origin\n",
    "\n",
    "## Used Root Files\n",
    "\n",
    "## Sensitive Attributes\n",
    "\n",
    "A summary of the used attributes in the root file are shown in the table below:\n",
    "\n",
    "| **Root Leave** | **Type** | **Description** |\n",
    "|---|---|---|\n",
    "| Energy Primary | Float |  |\n",
    "| RealEnergy_e | Float |  |\n",
    "| RealEnergy_p | Float |  |\n",
    "| RealPosition_source | TVector3 |  |\n",
    "| SimulatedEventType | ??? | (Not in Tree) |\n",
    "| RealDirection_source | TVector3 |  |\n",
    "| RealComptonPosition | TVector3 |  |\n",
    "| RealDirectionScatter | TVector3 |  |\n",
    "| RealPosition_e | TVector3 |  |\n",
    "| RealInteraction_e | (??? vector int) |  |\n",
    "| RealPosition_p | TVector3 |  |\n",
    "| RealInteraction_p | (??? vector int) |  |\n",
    "| Identified | Boolean |  |\n",
    "| PurCrossed | Boolean | not used anymore |\n",
    "| RecoClusterPositions.position | ??? |  |\n",
    "| RecoClusterPositions.uncertainty | TVector3 |  |\n",
    "| RecoClusterEnergies | ??? |  |"
   ]
  },
  {
   "cell_type": "code",
   "execution_count": null,
   "id": "b24b4389",
   "metadata": {},
   "outputs": [],
   "source": []
  }
 ],
 "metadata": {
  "kernelspec": {
   "display_name": "Python 3 (ipykernel)",
   "language": "python",
   "name": "python3"
  },
  "language_info": {
   "codemirror_mode": {
    "name": "ipython",
    "version": 3
   },
   "file_extension": ".py",
   "mimetype": "text/x-python",
   "name": "python",
   "nbconvert_exporter": "python",
   "pygments_lexer": "ipython3",
   "version": "3.9.12"
  }
 },
 "nbformat": 4,
 "nbformat_minor": 5
}
