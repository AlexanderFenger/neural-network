{
 "cells": [
  {
   "cell_type": "code",
   "execution_count": 35,
   "metadata": {},
   "outputs": [],
   "source": [
    "import numpy as np\n",
    "import uproot\n",
    "import matplotlib.pyplot as plt\n",
    "from tensorflow import keras\n",
    "import tensorflow.keras.backend as K\n",
    "\n",
    "from sificc_lib import AI, utils, Event, Simulation, root_files, DataModel\n",
    "np.set_printoptions(precision=2, linewidth=85, suppress=True)\n",
    "\n",
    "%matplotlib inline"
   ]
  },
  {
   "cell_type": "code",
   "execution_count": 36,
   "metadata": {},
   "outputs": [],
   "source": [
    "# model name\n",
    "model_name = 'model-2b-lsrz2-FT'\n",
    "\n",
    "# source model name to load the network weights\n",
    "source_model = 'model-2b-lsrz2'\n",
    "\n",
    "shuffle_clusters = False\n",
    "\n",
    "# load the training data\n",
    "data = DataModel('data-mtx-enough-top-6.npz', \n",
    "                 batch_size = 256, validation_percent = .05, test_percent = .1)\n",
    "\n",
    "# append an extra dimention to the features since we are using convolutional layers\n",
    "data.append_dim = True\n",
    "\n",
    "# create an AI instance\n",
    "ai = AI(data, model_name)\n",
    "\n",
    "# randomly shuffle the training data\n",
    "#np.random.seed(888)\n",
    "#ai.data.shuffle(only_train=False)\n",
    "\n",
    "# shuffle the clusters within each event\n",
    "if shuffle_clusters:\n",
    "    ai.data.shuffle_training_clusters()"
   ]
  },
  {
   "cell_type": "code",
   "execution_count": 37,
   "metadata": {},
   "outputs": [
    {
     "name": "stdout",
     "output_type": "stream",
     "text": [
      "Model: \"model_1\"\n",
      "__________________________________________________________________________________________________\n",
      "Layer (type)                    Output Shape         Param #     Connected to                     \n",
      "==================================================================================================\n",
      "inputs (InputLayer)             [(None, 54, 1)]      0                                            \n",
      "__________________________________________________________________________________________________\n",
      "conv_1 (Conv1D)                 (None, 6, 128)       1280        inputs[0][0]                     \n",
      "__________________________________________________________________________________________________\n",
      "conv_2 (Conv1D)                 (None, 6, 64)        8256        conv_1[0][0]                     \n",
      "__________________________________________________________________________________________________\n",
      "flatting (Flatten)              (None, 384)          0           conv_2[0][0]                     \n",
      "__________________________________________________________________________________________________\n",
      "dense_cluster_1 (Dense)         (None, 32)           12320       flatting[0][0]                   \n",
      "__________________________________________________________________________________________________\n",
      "e_cluster (Dense)               (None, 6)            198         dense_cluster_1[0][0]            \n",
      "__________________________________________________________________________________________________\n",
      "p_cluster (Dense)               (None, 6)            198         dense_cluster_1[0][0]            \n",
      "__________________________________________________________________________________________________\n",
      "e_hardmax (Lambda)              (None, 6)            0           e_cluster[0][0]                  \n",
      "__________________________________________________________________________________________________\n",
      "p_hardmax (Lambda)              (None, 6)            0           p_cluster[0][0]                  \n",
      "__________________________________________________________________________________________________\n",
      "join_layer (Concatenate)        (None, 396)          0           flatting[0][0]                   \n",
      "                                                                 e_hardmax[0][0]                  \n",
      "                                                                 p_hardmax[0][0]                  \n",
      "__________________________________________________________________________________________________\n",
      "dense_pos_1 (Dense)             (None, 64)           25408       join_layer[0][0]                 \n",
      "__________________________________________________________________________________________________\n",
      "dense_energy_1 (Dense)          (None, 32)           12704       join_layer[0][0]                 \n",
      "__________________________________________________________________________________________________\n",
      "dense_type_1 (Dense)            (None, 8)            3176        join_layer[0][0]                 \n",
      "__________________________________________________________________________________________________\n",
      "dense_pos_2 (Dense)             (None, 32)           2080        dense_pos_1[0][0]                \n",
      "__________________________________________________________________________________________________\n",
      "dense_energy_2 (Dense)          (None, 16)           528         dense_energy_1[0][0]             \n",
      "__________________________________________________________________________________________________\n",
      "type (Dense)                    (None, 1)            9           dense_type_1[0][0]               \n",
      "__________________________________________________________________________________________________\n",
      "pos_x (Dense)                   (None, 2)            66          dense_pos_2[0][0]                \n",
      "__________________________________________________________________________________________________\n",
      "pos_y (Dense)                   (None, 2)            66          dense_pos_2[0][0]                \n",
      "__________________________________________________________________________________________________\n",
      "pos_z (Dense)                   (None, 2)            66          dense_pos_2[0][0]                \n",
      "__________________________________________________________________________________________________\n",
      "energy (Dense)                  (None, 2)            34          dense_energy_2[0][0]             \n",
      "==================================================================================================\n",
      "Total params: 66,389\n",
      "Trainable params: 66,389\n",
      "Non-trainable params: 0\n",
      "__________________________________________________________________________________________________\n"
     ]
    }
   ],
   "source": [
    "# define the learning rate\n",
    "def lr_scheduler(epoch):\n",
    "    return .00003\n",
    "    \n",
    "# define and create the neural network architecture\n",
    "ai.create_model(conv_layers=[128, 64], classifier_layers=[32], type_layers=[8], \n",
    "                pos_layers=[64,32], energy_layers=[32, 16], base_l2=.0001, limbs_l2=.00003)"
   ]
  },
  {
   "cell_type": "code",
   "execution_count": 38,
   "metadata": {},
   "outputs": [],
   "source": [
    "#LOADING\n",
    "ai.load(model_name)\n",
    "ai.compile_model()"
   ]
  },
  {
   "cell_type": "code",
   "execution_count": null,
   "metadata": {},
   "outputs": [],
   "source": []
  },
  {
   "cell_type": "code",
   "execution_count": null,
   "metadata": {},
   "outputs": [],
   "source": []
  },
  {
   "cell_type": "code",
   "execution_count": null,
   "metadata": {},
   "outputs": [],
   "source": []
  },
  {
   "cell_type": "code",
   "execution_count": null,
   "metadata": {},
   "outputs": [],
   "source": []
  },
  {
   "cell_type": "code",
   "execution_count": null,
   "metadata": {},
   "outputs": [],
   "source": [
    "#TRAINING"
   ]
  },
  {
   "cell_type": "code",
   "execution_count": 5,
   "metadata": {},
   "outputs": [],
   "source": [
    "# load the weights of the source model\n",
    "ai.load(source_model, optimizer=False)\n",
    "ai.compile_model()"
   ]
  },
  {
   "cell_type": "code",
   "execution_count": 6,
   "metadata": {},
   "outputs": [
    {
     "name": "stdout",
     "output_type": "stream",
     "text": [
      "dense_energy_1   True\n",
      "dense_energy_2   True\n",
      "energy           True\n",
      "17443/17443 [==============================] - 85s 5ms/step - loss: 2.8631 - e_cluster_loss: 0.0303 - p_cluster_loss: 0.0777 - type_loss: 0.2856 - pos_x_loss: 3.8504e-04 - pos_y_loss: 0.0370 - pos_z_loss: 4.5528e-04 - energy_loss: 0.4026 - e_cluster__cluster_accuracy: 0.9576 - p_cluster__cluster_accuracy: 0.8923 - type__type_accuracy: 0.8789 - type__type_tp_rate: 0.8252\n",
      "\n",
      "CPU times: user 36min 21s, sys: 38.8 s, total: 37min\n",
      "Wall time: 37min 1s\n"
     ]
    }
   ],
   "source": [
    "%%time\n",
    "# eliminate the components weight not intended for tuning\n",
    "ai.weight_type = .05     * 0\n",
    "ai.weight_e_cluster = .15* 0\n",
    "ai.weight_p_cluster = .1 * 0\n",
    "ai.weight_pos_x = 12     * 0\n",
    "ai.weight_pos_y = 2      * 0\n",
    "ai.weight_pos_z = 8      * 0\n",
    "ai.weight_energy = 7     * 1\n",
    "\n",
    "# freeze all network components\n",
    "for layer in ai.model.layers:\n",
    "    layer.trainable = False\n",
    "\n",
    "# defreeze the parts to be tuned\n",
    "for layer_name in ['dense_energy_1', 'dense_energy_2', 'energy']:\n",
    "    layer = ai.model.get_layer(layer_name)\n",
    "    layer.trainable = True\n",
    "\n",
    "# print the trainable layers\n",
    "for layer in ai.model.layers:\n",
    "    if layer.trainable:\n",
    "        print('{:17s}{}'.format(layer.name, layer.trainable))\n",
    "print()\n",
    "\n",
    "# compile the AI\n",
    "ai.compile_model(learning_rate=.00003)\n",
    "l_callbacks = [\n",
    "    keras.callbacks.LearningRateScheduler(lr_scheduler),\n",
    "]\n",
    "\n",
    "# start the training of the network\n",
    "ai.train(epochs=10, shuffle=True, shuffle_clusters=shuffle_clusters, \n",
    "         verbose=0, callbacks = l_callbacks)\n",
    "# evaluate on the training dataset\n",
    "ai.model.evaluate(ai.data.train_x, ai.data.train_y, verbose=1)\n",
    "print()"
   ]
  },
  {
   "cell_type": "code",
   "execution_count": 14,
   "metadata": {},
   "outputs": [
    {
     "name": "stdout",
     "output_type": "stream",
     "text": [
      "AI model\n",
      "  Loss:        3.39696\n",
      "    -Type:         0.28991 *  0.05 = 0.01450\n",
      "    -Pos X:        0.00070 * 12.00 = 0.00844\n",
      "    -Pos Y:        0.03808 *  2.00 = 0.07617\n",
      "    -Pos Z:        0.00052 *  8.00 = 0.00413\n",
      "    -Energy:       0.46219 *  7.00 = 3.23535\n",
      "    -Cls e:        0.03397 *  0.15 = 0.00510\n",
      "    -Cls p:        0.08168 *  0.10 = 0.00817\n",
      "  Accuracy:    0.87557\n",
      "    -TP rate:      0.82151\n",
      "    -Cls e rate:   0.95384\n",
      "    -Cls p rate:   0.88957\n",
      "  Efficiency:  0.13386\n",
      "  Purity:      0.12474\n",
      "  Euc mean:   11.24639\n",
      "  Euc std:    29.09113\n",
      "\n",
      "Reco\n",
      "  Accuracy:    0.64592\n",
      "    -TP rate:      0.74924\n",
      "  Efficiency:  0.10264\n",
      "  Purity:      0.05959\n",
      "  Euc mean:   20.44427\n",
      "  Euc std:    48.46802\n"
     ]
    }
   ],
   "source": [
    "# evaluate the AI on the test set\n",
    "ai.evaluate()"
   ]
  },
  {
   "cell_type": "code",
   "execution_count": null,
   "metadata": {},
   "outputs": [],
   "source": [
    "# save the trained model\n",
    "ai.save(file_name=model_name)"
   ]
  },
  {
   "cell_type": "code",
   "execution_count": 5,
   "metadata": {},
   "outputs": [],
   "source": [
    "# export the predictions for image reconstruction\n",
    "ai.export_predictions_root(root_name='hyb_nn_cones.root')"
   ]
  },
  {
   "cell_type": "code",
   "execution_count": null,
   "metadata": {},
   "outputs": [],
   "source": []
  }
 ],
 "metadata": {
  "kernelspec": {
   "display_name": "Python 3",
   "language": "python",
   "name": "python3"
  },
  "language_info": {
   "codemirror_mode": {
    "name": "ipython",
    "version": 3
   },
   "file_extension": ".py",
   "mimetype": "text/x-python",
   "name": "python",
   "nbconvert_exporter": "python",
   "pygments_lexer": "ipython3",
   "version": "3.7.9"
  }
 },
 "nbformat": 4,
 "nbformat_minor": 4
}
